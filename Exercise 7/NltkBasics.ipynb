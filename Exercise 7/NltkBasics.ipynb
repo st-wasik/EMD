{
 "cells": [
  {
   "cell_type": "markdown",
   "metadata": {},
   "source": [
    "# Przetwarzanie języka naturalnego w Pythonie\n",
    "\n",
    "Ten notatnik ma na celu przedstawienie podstawowych kroków, które należy wykonać podczas analizy i klasyfikacji tekstów. W trakcie zadania będziemy tworzyć szereg funkcji pomocniczych, które na koniec wykorzystamy do klasyfikacji krótkich dokumentów tekstowych.\n",
    "\n",
    "Po wykonaniu tego zadania powinieneś:\n",
    "+ wiedzieć na czym polega i jak wykonać tokenizację,\n",
    "+ potrafić wykonać podstawowy stemming,\n",
    "+ potrafić analizować najpopularniejsze i narzadsze tokeny w zbiorze dokumentów,\n",
    "+ zdefiniować i usunąć stopwords,\n",
    "+ wiedzieć jak zamienić zbiór dokumentów na reprezentację bag-of-words,\n",
    "+ uruchomić wybrany klasyfikator na przetworzonym zbiorze danych."
   ]
  },
  {
   "cell_type": "markdown",
   "metadata": {},
   "source": [
    "## Przygotowanie\n",
    "\n",
    "Na początek trochę bibliotek i przydatnych wyrażeń regularnych:"
   ]
  },
  {
   "cell_type": "code",
   "execution_count": 1,
   "metadata": {},
   "outputs": [],
   "source": [
    "import re\n",
    "import pandas as pd\n",
    "import nltk\n",
    "\n",
    "RE_SPACES = re.compile(\"\\s+\")\n",
    "RE_HASHTAG = re.compile(\"[@#][_a-z0-9]+\")\n",
    "RE_EMOTICONS = re.compile(\"(:-?\\))|(:p)|(:d+)|(:-?\\()|(:/)|(;-?\\))|(<3)|(=\\))|(\\)-?:)|(:'\\()|(8\\))\")\n",
    "RE_HTTP = re.compile(\"http(s)?://[/\\.a-z0-9]+\")"
   ]
  },
  {
   "cell_type": "markdown",
   "metadata": {},
   "source": [
    "Biblioteka [re](https://docs.python.org/2/library/re.html) pozwala definiować wyrażenia regularne, [pandas](http://pandas.pydata.org/) już znasz z ostatnich zajęć, a [nltk](http://www.nltk.org/) to podstawowa biblioteka do przetwarzania języka naturalnego w pythonie. `nltk` to spory zestaw modułów, który domyślnie nie jest instalowany w całości. Aby doinstalować wybrane moduły możesz w interaktywnej konsoli pythona wpisać:\n",
    "\n",
    "`import nltk\n",
    "nltk.download()`\n",
    "\n",
    "Następnie w odpowiednich zakładkach wybrać interesujące moduły. W ramach tego ćwiczenia będziemy wykorzystywać moduł **`punkt`** z zakładki Modules, ale proszę zwrócić uwagę na interesujące korpusy i leksykony, takie jak np. `opinion_lexicon` czy `sentiwordnet`.\n",
    "\n",
    "Przyda nam się też zbiór danych do testowania kodu.\n",
    "\n",
    "**Zad. 1: Wczytaj zbiór danych `tweets_train.tsv` do zmiennej `tweets`. Pomiń nagłówek i pozostaw tylko ostatnią kolumnę. Wyświetl pierwsze 6 wierszy, żeby upewnić się, że każdy przykład składa się tylko z tekstu.**"
   ]
  },
  {
   "cell_type": "code",
   "execution_count": 2,
   "metadata": {},
   "outputs": [],
   "source": [
    "tweets = pd.read_csv(\"tweets_train.tsv\", sep=\"\\t\", header=None, names=['A','B','data'])\n",
    "tweets = tweets.iloc[:,2]"
   ]
  },
  {
   "cell_type": "code",
   "execution_count": 3,
   "metadata": {},
   "outputs": [
    {
     "data": {
      "text/plain": [
       "0    dear @Microsoft the newOoffice for Mac is grea...\n",
       "1    @Microsoft how about you make a system that do...\n",
       "2                                        Not Available\n",
       "3                                        Not Available\n",
       "4    If I make a game as a #windows10 Universal App...\n",
       "5    Microsoft, I may not prefer your gaming branch...\n",
       "Name: data, dtype: object"
      ]
     },
     "execution_count": 3,
     "metadata": {},
     "output_type": "execute_result"
    }
   ],
   "source": [
    "tweets[:6]"
   ]
  },
  {
   "cell_type": "markdown",
   "metadata": {},
   "source": [
    "## Tokenizacja i stemming\n",
    "\n",
    "Żeby uporządkować trochę kod i kolejne kroki, wprowadźmy klasę Tokenizer i BeforeTokenizationNormalizer. Pierwsza będzie służyć jako klasa bazowa dla tworzonych przez tokenizatorów a druga zamieni encje html na poprawne znaki tekstowe."
   ]
  },
  {
   "cell_type": "code",
   "execution_count": 4,
   "metadata": {},
   "outputs": [],
   "source": [
    "class Tokenizer():\n",
    "    @staticmethod\n",
    "    def tokenize(text):\n",
    "        pass\n",
    "    \n",
    "class BeforeTokenizationNormalizer():\n",
    "    @staticmethod\n",
    "    def normalize(text):\n",
    "        text = text.strip().lower()\n",
    "        text = text.replace('&nbsp;', ' ')\n",
    "        text = text.replace('&lt;', '<')\n",
    "        text = text.replace('&gt;', '>')\n",
    "        text = text.replace('&amp;', '&')\n",
    "        text = text.replace('&pound;', u'£')\n",
    "        text = text.replace('&euro;', u'€')\n",
    "        text = text.replace('&copy;', u'©')\n",
    "        text = text.replace('&reg;', u'®')\n",
    "        return text"
   ]
  },
  {
   "cell_type": "markdown",
   "metadata": {},
   "source": [
    "Aby sprawdzić czy wszystko działa - odkomentuj poniższy kod:"
   ]
  },
  {
   "cell_type": "code",
   "execution_count": 5,
   "metadata": {
    "scrolled": true
   },
   "outputs": [
    {
     "name": "stdout",
     "output_type": "stream",
     "text": [
      "dear @microsoft the newooffice for mac is great and all, but no lync update? c'mon.\n",
      "@microsoft how about you make a system that doesn't eat my friggin discs. this is the 2nd time this has happened and i am so sick of it!\n",
      "not available\n"
     ]
    }
   ],
   "source": [
    "for i in tweets.index[:3]:\n",
    "    tweet = BeforeTokenizationNormalizer.normalize(tweets.iat[i])\n",
    "    print(tweet)"
   ]
  },
  {
   "cell_type": "markdown",
   "metadata": {},
   "source": [
    "W kolejnych krokach będziesz implementował coraz bardziej wyrafinowane tokenizatory. Zacznijmy od czegoś w miarę intuicyjnego.\n",
    "\n",
    "**Zad. 2: Napisz tokenizator, który dzieli słowa według spacji. Tokenizator powinien przyjmować tekst (pojedynczego stringa) i zamieniać go na listę słów. Przetestuj kod za pomocą zakomentowanej pętli.**"
   ]
  },
  {
   "cell_type": "code",
   "execution_count": 6,
   "metadata": {},
   "outputs": [],
   "source": [
    "class SimpleTokenizer(Tokenizer):\n",
    "    @staticmethod\n",
    "    def tokenize(text):\n",
    "        # Można w tym celu wykorzystać wyrażenie RE_SPACES. Jakie wady ma takie podejście? Jak reaguje na znaki\n",
    "        # interpunkcyjne? Jeśli usuniesz interpunkcje, co się dzieje ze skrótowcami? Jak obsłużyć słowa can't, o'clock,\n",
    "        # we'd itp.?\n",
    "        return re.split(RE_SPACES, text)\n",
    "        \n",
    "# Znaki interpunkcyjne występujące zaraz po słowach są uznawane za części tych słów.\n",
    "# Ten tokenizer nie usuwa interpunkcji. can't, we'd można obsłużyć w ten sposób, że po \n",
    "# wykryciu znaku ' można sprawdzić, czy z obu stron przylega on do liter.\n",
    "# Jeśli tak to można usunąć ten znak i scalić litery w jeden wyraz."
   ]
  },
  {
   "cell_type": "code",
   "execution_count": 7,
   "metadata": {
    "scrolled": false
   },
   "outputs": [
    {
     "name": "stdout",
     "output_type": "stream",
     "text": [
      "['dear', '@microsoft', 'the', 'newooffice', 'for', 'mac', 'is', 'great', 'and', 'all,', 'but', 'no', 'lync', 'update?', \"c'mon.\"]\n",
      "['@microsoft', 'how', 'about', 'you', 'make', 'a', 'system', 'that', \"doesn't\", 'eat', 'my', 'friggin', 'discs.', 'this', 'is', 'the', '2nd', 'time', 'this', 'has', 'happened', 'and', 'i', 'am', 'so', 'sick', 'of', 'it!']\n",
      "['not', 'available']\n",
      "['not', 'available']\n",
      "['if', 'i', 'make', 'a', 'game', 'as', 'a', '#windows10', 'universal', 'app.', 'will', '#xboxone', 'owners', 'be', 'able', 'to', 'download', 'and', 'play', 'it', 'in', 'november?', '@majornelson', '@microsoft']\n",
      "['microsoft,', 'i', 'may', 'not', 'prefer', 'your', 'gaming', 'branch', 'of', 'business.', 'but,', 'you', 'do', 'make', 'a', 'damn', 'fine', 'operating', 'system.', '#windows10', '@microsoft']\n",
      "['@mikewolf1980', '@microsoft', 'i', 'will', 'be', 'downgrading', 'and', 'let', '#windows10', 'be', 'out', 'for', 'almost', 'the', '1st', 'yr', 'b4', 'trying', 'it', 'again.', '#windows10fail']\n",
      "['@microsoft', '2nd', 'computer', 'with', 'same', 'error!!!', '#windows10fail', 'guess', 'we', 'will', 'shelve', 'this', 'until', 'sp1!', 'http://t.co/qcchlkuy8q']\n",
      "['just', 'ordered', 'my', '1st', 'ever', 'tablet;', '@microsoft', 'surface', 'pro', '3,', 'i7/8gb', '512gb', 'ssd.', 'hopefully', 'it', 'works', 'out', 'for', 'dev', 'to', 'replace', 'my', 'laptop', '=)']\n",
      "['after', 'attempting', 'a', 'reinstall,', 'it', 'still', 'bricks,', 'says,', '\"windows', 'cannot', 'finish', 'installing,\"', 'or', 'somesuch.', '@microsoft', 'may', 'have', 'cost', 'me', '$600.']\n"
     ]
    }
   ],
   "source": [
    "for i in tweets.index[:10]:\n",
    "    tweet = BeforeTokenizationNormalizer.normalize(tweets.iat[i])\n",
    "    words_simple = SimpleTokenizer.tokenize(tweet)\n",
    "    print(words_simple)"
   ]
  },
  {
   "cell_type": "markdown",
   "metadata": {},
   "source": [
    "**Zad. 3: Napisz tokenizator korzystający z funkcji word_tokenize() z biblioteki NLTK.**"
   ]
  },
  {
   "cell_type": "code",
   "execution_count": 8,
   "metadata": {},
   "outputs": [],
   "source": [
    "class NltkTokenizer(Tokenizer):\n",
    "    @staticmethod\n",
    "    def tokenize(text):\n",
    "        # Napisz tokenizator korzystający z funkcji word_tokenize() z biblioteki NLTK.\n",
    "        # Czy w przypadku tweetów wszystkie słowa zostały poprawnie rozdzielone?\n",
    "        return nltk.word_tokenize(text)"
   ]
  },
  {
   "cell_type": "code",
   "execution_count": 9,
   "metadata": {},
   "outputs": [
    {
     "name": "stdout",
     "output_type": "stream",
     "text": [
      "['dear', '@', 'microsoft', 'the', 'newooffice', 'for', 'mac', 'is', 'great', 'and', 'all', ',', 'but', 'no', 'lync', 'update', '?', \"c'mon\", '.']\n",
      "['@', 'microsoft', 'how', 'about', 'you', 'make', 'a', 'system', 'that', 'does', \"n't\", 'eat', 'my', 'friggin', 'discs', '.', 'this', 'is', 'the', '2nd', 'time', 'this', 'has', 'happened', 'and', 'i', 'am', 'so', 'sick', 'of', 'it', '!']\n",
      "['not', 'available']\n"
     ]
    }
   ],
   "source": [
    "for i in tweets.index[:3]:\n",
    "    tweet = BeforeTokenizationNormalizer.normalize(tweets.iat[i])\n",
    "    words_nltk = NltkTokenizer.tokenize(tweet)\n",
    "    print(words_nltk)\n",
    "    \n",
    "# zdaje się że wszystkie słowa są poprawnie rozdzielone..."
   ]
  },
  {
   "cell_type": "markdown",
   "metadata": {},
   "source": [
    "**Zad. 4: Napisz tokenizator, który oprócz standardowych słów obsłuży emitikony i hashtagi. Następnie wykonaj stemming (porter = nltk.PorterStemmer() porter.stem()).**"
   ]
  },
  {
   "cell_type": "code",
   "execution_count": 10,
   "metadata": {},
   "outputs": [],
   "source": [
    "class TweetTokenizer(Tokenizer):\n",
    "    @staticmethod\n",
    "    def tokenize(text):\n",
    "        tokens = SimpleTokenizer.tokenize(text)\n",
    "        i = 0\n",
    "        while i < len(tokens):\n",
    "            token = tokens[i]\n",
    "            match = re.search(RE_HASHTAG, token) \\\n",
    "                or re.search(RE_EMOTICONS, token) \\\n",
    "                or re.search(RE_HTTP, token)\n",
    "            \n",
    "            # sprawdź czy w ramach tokena występuje emotikona, hashtag lub link\n",
    "            if match is not None:\n",
    "                # wydziel emotikonę lub hashtag jako token a resztę tekstu rozpatrz ponownie\n",
    "                if match.re is not RE_HTTP:\n",
    "                    matched = match.group(0)\n",
    "                    a, b = match.span()\n",
    "                    tokens[i] = token[:a] + token[b:]\n",
    "                    tokens.insert(i, matched) \n",
    "            else:\n",
    "                del tokens[i]\n",
    "                tokens[i:i] = NltkTokenizer.tokenize(token)\n",
    "            i += 1\n",
    "            \n",
    "        # stwórz stemmer i w pętli stemmuj wszystkie tokeny\n",
    "        stemmer = nltk.PorterStemmer()\n",
    "        return [stemmer.stem(token) for token in tokens]"
   ]
  },
  {
   "cell_type": "code",
   "execution_count": 11,
   "metadata": {
    "scrolled": false
   },
   "outputs": [
    {
     "name": "stdout",
     "output_type": "stream",
     "text": [
      "['dear', '@microsoft', 'the', 'newooffic', 'for', 'mac', 'is', 'great', 'and', 'all', ',', 'but', 'no', 'lync', 'updat', '?', \"c'mon\", '.']\n",
      "['@microsoft', 'how', 'about', 'you', 'make', 'a', 'system', 'that', 'doe', \"n't\", 'eat', 'my', 'friggin', 'disc', '.', 'thi', 'is', 'the', '2nd', 'time', 'thi', 'ha', 'happen', 'and', 'i', 'am', 'so', 'sick', 'of', 'it', '!']\n",
      "['not', 'avail']\n"
     ]
    }
   ],
   "source": [
    "for i in tweets.index[:3]:\n",
    "    tweet = BeforeTokenizationNormalizer.normalize(tweets.iat[i])\n",
    "    words_tweet = TweetTokenizer.tokenize(tweet)\n",
    "    print(words_tweet)"
   ]
  },
  {
   "cell_type": "markdown",
   "metadata": {
    "collapsed": true
   },
   "source": [
    "W wielu zastosowaniach dobrze działa lematyzacja, która również jest dostępna w `nltk`. W tym ćwiczeniu pozostaniemy jednak przy stemmingu."
   ]
  },
  {
   "cell_type": "markdown",
   "metadata": {},
   "source": [
    "## Stopwords"
   ]
  },
  {
   "cell_type": "markdown",
   "metadata": {},
   "source": [
    "W tej części przeanalizujemy częstość występowania różnych słów w korpusie. Interesują nas słowa występujące najczęściej i najrzadziej. Ich analiza pozwoli określić jakie słowa powinny zostać pominięte podczas analizy a jakie powinny zostać połączone w grupy znaczeniowe.\n",
    "\n",
    "W tym celu przyda nam się jakaś struktura danych do zliczania słów oraz funkcja do rysowania histogramów."
   ]
  },
  {
   "cell_type": "code",
   "execution_count": 12,
   "metadata": {},
   "outputs": [],
   "source": [
    "%matplotlib inline\n",
    "import seaborn as sns\n",
    "import matplotlib.pyplot as plt\n",
    "from collections import Counter\n",
    "\n",
    "sns.set(style=\"whitegrid\")\n",
    "sns.set_color_codes(\"muted\")\n",
    "\n",
    "def show_histogram(word_counts, title=None):\n",
    "    plot_df = pd.DataFrame.from_dict(word_counts).rename(columns={0:'Token', 1:'Count'})\n",
    "    \n",
    "    f, ax = plt.subplots(figsize=(12, 15))\n",
    "    p = sns.barplot(x=\"Count\", y=\"Token\", data=plot_df, color=\"b\")\n",
    "    p.set(xlabel=\"Count\", ylabel=\"\", title=title)"
   ]
  },
  {
   "cell_type": "markdown",
   "metadata": {},
   "source": [
    "Zacznijmy od zliczenia unikatowych słów. Pomoże nam w tym klasa [Counter](https://docs.python.org/2/library/collections.html#collections.Counter). Poniższy kod wypełnia kolekcję słowami po tokenizacji i stemmingu."
   ]
  },
  {
   "cell_type": "code",
   "execution_count": 13,
   "metadata": {},
   "outputs": [],
   "source": [
    "words = Counter()\n",
    "\n",
    "for i in tweets.index:\n",
    "    tweet = BeforeTokenizationNormalizer.normalize(tweets.iat[i])\n",
    "    words.update(TweetTokenizer.tokenize(tweet))"
   ]
  },
  {
   "cell_type": "markdown",
   "metadata": {},
   "source": [
    "**Zad. 5: Wypisz, zwizualizuj i przeanalizuj 50 najczęściej występujących słów. Czy wszystkie wyświetlone tokeny będą przydatne w dalszej analizie? Czy wszystkie tokeny to słowa?**"
   ]
  },
  {
   "cell_type": "code",
   "execution_count": 14,
   "metadata": {},
   "outputs": [
    {
     "data": {
      "image/png": "[encoded data removed]",
      "text/plain": [
       "<Figure size 864x1080 with 1 Axes>"
      ]
     },
     "metadata": {},
     "output_type": "display_data"
    }
   ],
   "source": [
    "show_histogram(words.most_common(50))\n",
    "\n",
    "# stopwords nie będą przydatne w dalszej analizie\n",
    "# niektóre tokeny to znaki interpunkcyjne"
   ]
  },
  {
   "cell_type": "markdown",
   "metadata": {
    "collapsed": true
   },
   "source": [
    "Widać, że nie wszystkie tokeny to słowa. Ponieważ budujemy słownik słów, które będą wykorzystywane do klasyfikacji tekstów, usuńmy podstawowe tokeny, które nie niosą żadnej informacji.\n",
    "\n",
    "**Zad. 6: Usuń znaki interpunkcyjne z kolekcji words i powtórz analizę. Czy w przypadku badania opinii trzeba wyrzucić wszystkie znaki interpunkcyjne?**"
   ]
  },
  {
   "cell_type": "code",
   "execution_count": 15,
   "metadata": {},
   "outputs": [
    {
     "data": {
      "image/png": "[encoded data removed]",
      "text/plain": [
       "<Figure size 864x1080 with 1 Axes>"
      ]
     },
     "metadata": {},
     "output_type": "display_data"
    }
   ],
   "source": [
    "import string\n",
    "\n",
    "for key in list(words.keys()):\n",
    "    if set(key).intersection(string.punctuation) != set():\n",
    "        del words[key]\n",
    "\n",
    "show_histogram(words.most_common(50))\n",
    "\n",
    "# znaki ! ? lub emotikony mogą być przydatne przy badaniu opinii"
   ]
  },
  {
   "cell_type": "markdown",
   "metadata": {},
   "source": [
    "Wyraźnie widać, że nawet bez znaków intepunkcyjnych pozostało dużo zbędnych tokenów. Poniżej lista słów, które często są oznaczane jako tzw. stopwords, czyli słowa występujące często a nie niosące informacji."
   ]
  },
  {
   "cell_type": "code",
   "execution_count": 16,
   "metadata": {},
   "outputs": [],
   "source": [
    "stopwords = [\"a\", \"about\", \"after\", \"all\", \"am\", \"an\", \"and\", \"any\", \"are\", \"as\", \"at\", \"be\", \"because\", \"been\",\n",
    "            \"before\", \"being\", \"between\", \"both\", \"by\", \"could\", \"did\", \"do\", \"does\", \"doing\", \"during\", \"each\",\n",
    "            \"for\", \"from\", \"further\", \"had\", \"has\", \"have\", \"having\", \"he\", \"her\", \"here\", \"hers\", \"herself\", \"him\",\n",
    "            \"himself\", \"his\", \"how\", \"i\", \"in\", \"into\", \"is\", \"it\", \"its\", \"itself\", \"let\", \"me\", \"more\", \"most\", \"my\",\n",
    "            \"myself\", \"of\", \"on\", \"once\", \"only\", \"or\", \"other\", \"ought\", \"our\", \"ours\", \"ourselves\", \"own\", \"sha\",\n",
    "            \"she\", \"should\", \"so\", \"some\", \"such\", \"than\", \"that\", \"the\", \"their\", \"theirs\", \"them\", \"themselves\",\n",
    "            \"then\", \"there\", \"there's\", \"these\", \"they\", \"this\", \"those\", \"through\", \"to\", \"until\", \"up\", \"very\",\n",
    "            \"was\", \"we\", \"were\", \"what\", \"when\", \"where\", \"which\", \"while\", \"who\",\"whom\", \"with\", \"would\", \"you\",\n",
    "            \"your\", \"yours\", \"yourself\", \"yourselves\",\n",
    "            \"n't\", \"'s\", \"'ll\", \"'re\", \"'d\", \"'m\", \"'ve\",\n",
    "            \"above\", \"again\", \"against\", \"below\", \"but\", \"cannot\", \"down\", \"few\", \"if\", \"no\", \"nor\", \"not\", \"off\",\n",
    "            \"out\", \"over\", \"same\", \"too\", \"under\", \"why\"]"
   ]
  },
  {
   "cell_type": "markdown",
   "metadata": {},
   "source": [
    "**Zad. 7: Korzystając z listy `sotpwords` usuń z kolekcji `words` popularne stopwords i ponów analizę. Czy wszystkie stopwords zawsze należy wyrzucać? Czy słowa takie jak \"not\" mogą być nośnikiem opinii? Jeśli masz jeszcze dużo czasu, możesz przeanalizować listę słów w nltk.corpus.stopwords.words('english')?**"
   ]
  },
  {
   "cell_type": "code",
   "execution_count": 17,
   "metadata": {},
   "outputs": [
    {
     "data": {
      "image/png": "[encoded data removed]",
      "text/plain": [
       "<Figure size 864x1080 with 1 Axes>"
      ]
     },
     "metadata": {},
     "output_type": "display_data"
    }
   ],
   "source": [
    "keys_to_remove = set(words.keys()).intersection(stopwords)\n",
    "\n",
    "for key in keys_to_remove:\n",
    "    del words[key]\n",
    "\n",
    "show_histogram(words.most_common(50))\n",
    "\n",
    "# słowa 'not' niosą informację o zaprzeczeniu informacji zawartej w opnii"
   ]
  },
  {
   "cell_type": "markdown",
   "metadata": {},
   "source": [
    "Oprócz tokenów, które występują zbyt często, problemem bywają również najrzadsze tokeny."
   ]
  },
  {
   "cell_type": "markdown",
   "metadata": {},
   "source": [
    "**Zad. 8: Przeanalizuj 100 listę najrzadszych tokenów. Czy wszystkie tokeny są rzeczywiście rzadkie? Czy jakieś typy tokenów powtarzają się? Jak myślisz, co najlepiej zrobić z takimi tokenami jak 1, 2, 3... 10%, 20%, 30%..., 12:00, 19:50, 22:30, ..., 2005, 2010, 1995..., 10\\$, 20\\$, 30\\$... ?**"
   ]
  },
  {
   "cell_type": "code",
   "execution_count": 18,
   "metadata": {},
   "outputs": [
    {
     "name": "stdout",
     "output_type": "stream",
     "text": [
      "['nation', 'confer', 'dog', 'european', 'carli', 'fiorina', 'smartest', 'snort', 'coke', '10yr', 'seek', 'imagin', 'african', 'multicultur', 'urg', 'protect', 'threw', 'weight', 'defin', 'french', 'solut', 'penis', 'cultur', 'belong', '9am', 'debat', 'illog', 'democraci', 'deutschen', 'nazi', 'accuss', 'betray', 'polic', 'clear', 'strong', 'washington', 'aug', '26', 'barack', 'voic', 'conduct', 'dnr', 'lnr', 'minsk', 'agreement', 'tat', 'azerbaijan', 'youngish', 'abe', 'fellow', 'stanc', 'canadian', 'zone', 'reform', 'digniti', 'stood', 'telegraph', 'passport', 'admitt', 'principl', 'movement', 'btw', 'biographi', 'predecessor', 'gerhard', 'schroeder', '22', 'prayer', 'hungari', 'budapest', 'catalonia', 'reappli', 'seced', 'spain', 'favour', 'sink', 'gunboat', 'colour', 'sweden', 'exampl', 'nobodi', 'ran', 'whole', 'must', 'graduat', 'humanitarian', 'citizen', 'concern', 'critic', 'action', 'xenophob', 'rare', 'shown', 'inclin', 'bold', 'restor', 'piti', 'organis', 'invas', 'columnista']\n"
     ]
    }
   ],
   "source": [
    "print([x for x, y in words.most_common()[-100:]])\n",
    "\n",
    "# nie wszystkie tokeny są rzadkimi słowami, \n",
    "# jedynie występują one rzadko w tym zbiorze danych\n",
    "\n",
    "# tokeny liczbowe można by oznaczyć jednym wspólnym tokenem, np. <value>"
   ]
  },
  {
   "cell_type": "markdown",
   "metadata": {},
   "source": [
    "Na tym etapie w zmiennej `words` mamy wstępnie przygotowany słownik. Jak widać słownik można by jeszcze ulepszyć, ale w tym ćwiczeniu poprzestaniemy na tym co do tej pory zrobiliśmy."
   ]
  },
  {
   "cell_type": "markdown",
   "metadata": {},
   "source": [
    "## Klasyfikacja"
   ]
  },
  {
   "cell_type": "markdown",
   "metadata": {},
   "source": [
    "Mając słownik zamienimy przykłady uczące na reprezentację bag of words (BOW). W tej reprezentacji każdy przykład uczący (pojedynczy dokument tekstowy) przyjmuje formę wektora liczb. Każda pozycja w wektorze oznacza kolejne słowo ze słownika, a liczba na danej pozycji mówi czy (0-1) lub jak często (0-k) dane słowo występuje w tekście. Taka reprezentacja wektorowa ma tę zaletę, że można ją łatwo rozszerzać o dodatkowe atrybuty.\n",
    "\n",
    "**Zad. 9: Przeanalizuj poniższy kod tworzący reprezentację bag-of-words. Co to jest `csr_matrix`? Czy wykorzystanie tej klasy jest konieczne?**"
   ]
  },
  {
   "cell_type": "code",
   "execution_count": 19,
   "metadata": {},
   "outputs": [],
   "source": [
    "# csr_matrix to macierz rzadka umożliwiająca oszczędzanie pamięci,\n",
    "# która w przypadku użycia zwykłej macierzy byłaby zużywana na \n",
    "# przechowywanie dużej ilości zer nieniosących żadnej informacji\n",
    "\n",
    "def create_bow(documents, features):\n",
    "    row = []\n",
    "    col = []\n",
    "    data = []\n",
    "\n",
    "    labels = []\n",
    "\n",
    "    for i in documents.index:\n",
    "        tweet = BeforeTokenizationNormalizer.normalize(documents.iloc[i, 2])\n",
    "        label = documents.iloc[i, 1]\n",
    "        tweet_tokens = TweetTokenizer.tokenize(tweet)\n",
    "\n",
    "        labels.append(label)\n",
    "        for token in set(tweet_tokens):\n",
    "            if token not in features:\n",
    "                continue\n",
    "            row.append(i)\n",
    "            col.append(features[token])\n",
    "            data.append(1)\n",
    "    return csr_matrix((data, (row, col)), shape=(len(documents), len(features))), labels"
   ]
  },
  {
   "cell_type": "markdown",
   "metadata": {},
   "source": [
    "Na koniec wykorzystajmy dotychczasową wiedzę, żeby nauczyć i przetestować klasyfikator.\n",
    "\n",
    "**Zad. 10: Sprawdź działanie klasyfikatora Random Forest na przetworzonych wcześniej danych. Jak na trafność klasyfikacji wpływa parametr min_word_count?**"
   ]
  },
  {
   "cell_type": "code",
   "execution_count": 20,
   "metadata": {},
   "outputs": [
    {
     "name": "stdout",
     "output_type": "stream",
     "text": [
      "Training classifier...\n",
      "Testing...\n",
      "=================== Results ===================\n",
      "min_word_count =  1\n",
      "            Positive    Neutral     Negative   \n",
      "F1        [0.72151899 0.24       0.        ]\n",
      "Precision [0.59685864 0.3        0.        ]\n",
      "Recall    [0.912 0.2   0.   ]\n",
      "\n",
      "\n",
      "Training classifier...\n",
      "Testing...\n",
      "=================== Results ===================\n",
      "min_word_count =  2\n",
      "            Positive    Neutral     Negative   \n",
      "F1        [0.72258065 0.2        0.02857143]\n",
      "Precision [0.60540541 0.2        0.2       ]\n",
      "Recall    [0.896      0.2        0.01538462]\n",
      "\n",
      "\n",
      "Training classifier...\n",
      "Testing...\n",
      "=================== Results ===================\n",
      "min_word_count =  3\n",
      "            Positive    Neutral     Negative   \n",
      "F1        [0.69257951 0.23255814 0.0952381 ]\n",
      "Precision [0.62025316 0.17857143 0.21052632]\n",
      "Recall    [0.784      0.33333333 0.06153846]\n",
      "\n",
      "\n",
      "Training classifier...\n",
      "Testing...\n",
      "=================== Results ===================\n",
      "min_word_count =  4\n",
      "            Positive    Neutral     Negative   \n",
      "F1        [0.70250896 0.23809524 0.15730337]\n",
      "Precision [0.63636364 0.18518519 0.29166667]\n",
      "Recall    [0.784      0.33333333 0.10769231]\n",
      "\n",
      "\n",
      "Training classifier...\n",
      "Testing...\n",
      "=================== Results ===================\n",
      "min_word_count =  5\n",
      "            Positive    Neutral     Negative   \n",
      "F1        [0.69402985 0.25       0.20930233]\n",
      "Precision [0.65034965 0.17073171 0.42857143]\n",
      "Recall    [0.744      0.46666667 0.13846154]\n",
      "\n",
      "\n",
      "Training classifier...\n",
      "Testing...\n",
      "=================== Results ===================\n",
      "min_word_count =  15\n",
      "            Positive    Neutral     Negative   \n",
      "F1        [0.67164179 0.15384615 0.12987013]\n",
      "Precision [0.62937063 0.1        0.41666667]\n",
      "Recall    [0.72       0.33333333 0.07692308]\n",
      "\n",
      "\n",
      "Training classifier...\n",
      "Testing...\n",
      "=================== Results ===================\n",
      "min_word_count =  25\n",
      "            Positive    Neutral     Negative   \n",
      "F1        [0.7114094 0.0952381 0.       ]\n",
      "Precision [0.61271676 0.07407407 0.        ]\n",
      "Recall    [0.848      0.13333333 0.        ]\n",
      "\n",
      "\n",
      "Training classifier...\n",
      "Testing...\n",
      "=================== Results ===================\n",
      "min_word_count =  45\n",
      "            Positive    Neutral     Negative   \n",
      "F1        [0.71710526 0.05405405 0.        ]\n",
      "Precision [0.60893855 0.04545455 0.        ]\n",
      "Recall    [0.872      0.06666667 0.        ]\n",
      "\n",
      "\n",
      "Training classifier...\n",
      "Testing...\n",
      "=================== Results ===================\n",
      "min_word_count =  65\n",
      "            Positive    Neutral     Negative   \n",
      "F1        [0.73482428 0.         0.14814815]\n",
      "Precision [0.61170213 0.         0.375     ]\n",
      "Recall    [0.92       0.         0.09230769]\n",
      "\n",
      "\n"
     ]
    }
   ],
   "source": [
    "# min_word_count ma za zadanie wskazać minimalną liczbę słów,\n",
    "# która jest używana do klasyfikacji. Gdy próg ten jest za niski,\n",
    "# dane zawierają szum (niska jakość klasyfikacji). Gdy próg \n",
    "# jest za wysoki większość przypadków nie jest wybierana do \n",
    "# klasyfikacji -- zaczyna brakować danych (także niska jakość\n",
    "# klasyfikacji). \n",
    "\n",
    "from scipy.sparse import csr_matrix\n",
    "from sklearn.ensemble import RandomForestClassifier\n",
    "from sklearn.metrics import f1_score, precision_score, recall_score\n",
    "\n",
    "for min_word_count in [1,2,3,4,5,15,25,45,65]:\n",
    "\n",
    "    train_tweets = pd.read_csv(\"tweets_train.tsv\", sep=\"\\t\", header=None)\n",
    "    test_tweets = pd.read_csv(\"tweets_test.tsv\", sep=\"\\t\", header=None)\n",
    "    common_words = list([k for k, v in words.most_common() if v > min_word_count])\n",
    "\n",
    "    feature_dict = {}\n",
    "    for word in common_words:\n",
    "        feature_dict[word] = len(feature_dict)\n",
    "\n",
    "    print(\"Training classifier...\")\n",
    "    X_train, y_train = create_bow(train_tweets, feature_dict)\n",
    "    list_of_labels = list(set(y_train))\n",
    "    classifier = RandomForestClassifier(n_estimators=300, n_jobs=-1, random_state=23)\n",
    "    classifier.fit(X_train, y_train)\n",
    "\n",
    "    print(\"Testing...\")\n",
    "    test_tweets = pd.read_csv(\"tweets_test.tsv\", sep=\"\\t\", header=None)\n",
    "    X_test, y_test = create_bow(test_tweets, feature_dict)\n",
    "    predicted = classifier.predict(X_test)\n",
    "\n",
    "    print(\"=================== Results ===================\")\n",
    "    print(\"min_word_count = \", min_word_count)\n",
    "    print(\"            Positive    Neutral     Negative   \")\n",
    "    print(\"F1       \", f1_score(y_test, predicted, average=None, pos_label=None, labels=list_of_labels))\n",
    "    print(\"Precision\", precision_score(y_test, predicted, average=None, pos_label=None, labels=list_of_labels))\n",
    "    print(\"Recall   \", recall_score(y_test, predicted, average=None, pos_label=None, labels=list_of_labels))\n",
    "    print(\"\")\n",
    "    print(\"\")"
   ]
  },
  {
   "cell_type": "code",
   "execution_count": null,
   "metadata": {},
   "outputs": [],
   "source": []
  }
 ],
 "metadata": {
  "anaconda-cloud": {},
  "kernelspec": {
   "display_name": "Python 3.7.6 64-bit ('anaconda3': virtualenv)",
   "language": "python",
   "name": "python37664bitanaconda3virtualenv479a4a6d335c4a66b4edef7caa9238ba"
  },
  "language_info": {
   "codemirror_mode": {
    "name": "ipython",
    "version": 3
   },
   "file_extension": ".py",
   "mimetype": "text/x-python",
   "name": "python",
   "nbconvert_exporter": "python",
   "pygments_lexer": "ipython3",
   "version": "3.7.6"
  }
 },
 "nbformat": 4,
 "nbformat_minor": 1
}
